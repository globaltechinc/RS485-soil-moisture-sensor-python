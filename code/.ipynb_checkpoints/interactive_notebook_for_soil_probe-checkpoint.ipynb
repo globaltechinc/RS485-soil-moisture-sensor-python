{
 "cells": [
  {
   "cell_type": "markdown",
   "id": "de1b1dd1",
   "metadata": {},
   "source": [
    "# Seeed Studio Soil Moisture & Temperature Probe Notebook\n",
    "\n",
    "[Global Technology Connection, Inc.](http://www.globaltechinc.com)\n",
    "\n",
    "This notebook uses the [PySerial package](https://pypi.org/project/pyserial/) to read the Modbus registers on the [Seeed Studio Moisture & Temperature sensor](https://www.seeedstudio.com/RS485-Soil-Moisture-Temperature-EC-Sensor-S-Soil-MTEC-02-p-4633.html)"
   ]
  },
  {
   "cell_type": "markdown",
   "id": "3170c871",
   "metadata": {},
   "source": [
    "## Look for open ports"
   ]
  },
  {
   "cell_type": "code",
   "execution_count": 1,
   "id": "5556daa5",
   "metadata": {},
   "outputs": [
    {
     "name": "stdout",
     "output_type": "stream",
     "text": [
      "COM3\n",
      "Standard Serial over Bluetooth link (COM3)\n",
      "COM4\n",
      "Standard Serial over Bluetooth link (COM4)\n",
      "COM5\n",
      "USB Serial Port (COM5)\n"
     ]
    }
   ],
   "source": [
    "from serial.tools import list_ports\n",
    "port_data = list_ports.comports()\n",
    "for port, desc, hwid in sorted(port_data):\n",
    "        print(port)\n",
    "        print(desc)    "
   ]
  },
  {
   "cell_type": "markdown",
   "id": "c731ae51",
   "metadata": {},
   "source": [
    "**In my case I'm going to use COM5**"
   ]
  },
  {
   "cell_type": "markdown",
   "id": "b60799d9",
   "metadata": {},
   "source": [
    "## Connecting with pyserial"
   ]
  },
  {
   "cell_type": "code",
   "execution_count": 2,
   "id": "4b92f6f8",
   "metadata": {},
   "outputs": [
    {
     "data": {
      "text/plain": [
       "b'\\x01\\x03\\x0e\\tM\\x00\\x00\\x00\\x00\\x00\\x00\\x00\\x00\\x00|\\x00\\x00\\xcaI'"
      ]
     },
     "execution_count": 2,
     "metadata": {},
     "output_type": "execute_result"
    }
   ],
   "source": [
    "import serial\n",
    "\n",
    "ser = serial.Serial(\n",
    "    port='COM5',\n",
    "    baudrate=9600,\n",
    "    parity=serial.PARITY_NONE,\n",
    "    stopbits=serial.STOPBITS_ONE,\n",
    "    bytesize=serial.EIGHTBITS,\n",
    "    timeout=5\n",
    ")\n",
    "\n",
    "# Construct the Modbus message to read a register\n",
    "message = (0x01, 0x03, 0x00, 0x00, 0x00, 0x07, 0x04, 0x08)\n",
    "\n",
    "# Send the message to the device\n",
    "ser.write(message)\n",
    "\n",
    "# Read the response\n",
    "response = ser.readline()\n",
    "\n",
    "ser.close()\n",
    "\n",
    "response"
   ]
  },
  {
   "cell_type": "markdown",
   "id": "1604d6c6",
   "metadata": {},
   "source": [
    "### Decode the response"
   ]
  },
  {
   "cell_type": "code",
   "execution_count": 3,
   "id": "0a853aae",
   "metadata": {},
   "outputs": [
    {
     "name": "stdout",
     "output_type": "stream",
     "text": [
      "Temp: 23.81, Water %: 0.0\n",
      "Elect Cond: 0, Salinity: 0, TDS: 0\n",
      "Soil type: 0\n"
     ]
    }
   ],
   "source": [
    "# Extract the data from the response\n",
    "data = response[3:-2]\n",
    "\n",
    "# Convert the data to a list of integers\n",
    "values = [int.from_bytes(data[i:i+2], byteorder='big', signed=False) for i in range(0, len(data), 2)]\n",
    "\n",
    "# Extract values\n",
    "temp = values[0] # -4000 to 8000, where 1000 = 10C\n",
    "temp = temp/100 # Now in units of C\n",
    "\n",
    "water_content = values[1] # 0-10000 corresponds to 0-100%\n",
    "water_content = water_content/100 #Units of percent\n",
    "\n",
    "elec_conduct = values[2] # 0-20000 corresponds to 0-20000us/cm\n",
    "\n",
    "salinity = values[3] # 0-20000 corresponds to 0-20000mg/L\n",
    "\n",
    "tds = values[4] # 0-20000 corresponds to 0-20000mg/L\n",
    "\n",
    "epsilon = values[5] # 0-8200 corresponds to 0.00~82.00\n",
    "epsilon = epsilon/100\n",
    "\n",
    "soil_type = values[6] #0-3\n",
    "                    # 0: Mineral soil\n",
    "                    # 1: Sandy soil\n",
    "                    # 2: Clay\n",
    "                    # 3: Organic soil \n",
    "\n",
    "print(\"Temp: {}, Water %: {}\".format(temp, water_content))\n",
    "print(\"Elect Cond: {}, Salinity: {}, TDS: {}\".format(elec_conduct, salinity, tds))\n",
    "print(\"Soil type: {}\".format(soil_type))"
   ]
  },
  {
   "cell_type": "code",
   "execution_count": null,
   "id": "a8f84753",
   "metadata": {},
   "outputs": [],
   "source": []
  }
 ],
 "metadata": {
  "kernelspec": {
   "display_name": "Python 3",
   "language": "python",
   "name": "python3"
  },
  "language_info": {
   "codemirror_mode": {
    "name": "ipython",
    "version": 3
   },
   "file_extension": ".py",
   "mimetype": "text/x-python",
   "name": "python",
   "nbconvert_exporter": "python",
   "pygments_lexer": "ipython3",
   "version": "3.9.5"
  }
 },
 "nbformat": 4,
 "nbformat_minor": 5
}
