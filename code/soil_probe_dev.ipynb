{
 "cells": [
  {
   "cell_type": "code",
   "execution_count": 1,
   "id": "be45f8f5",
   "metadata": {},
   "outputs": [
    {
     "data": {
      "text/plain": [
       "'3.9.5 (tags/v3.9.5:0a7dcbd, May  3 2021, 17:27:52) [MSC v.1928 64 bit (AMD64)]'"
      ]
     },
     "execution_count": 1,
     "metadata": {},
     "output_type": "execute_result"
    }
   ],
   "source": [
    "import sys\n",
    "sys.version"
   ]
  },
  {
   "cell_type": "code",
   "execution_count": 2,
   "id": "42f3cf72",
   "metadata": {},
   "outputs": [],
   "source": [
    "import serial"
   ]
  },
  {
   "cell_type": "markdown",
   "id": "3170c871",
   "metadata": {},
   "source": [
    "## Look for open ports"
   ]
  },
  {
   "cell_type": "code",
   "execution_count": 35,
   "id": "5556daa5",
   "metadata": {},
   "outputs": [
    {
     "name": "stdout",
     "output_type": "stream",
     "text": [
      "COM3\n",
      "Standard Serial over Bluetooth link (COM3)\n",
      "COM4\n",
      "Standard Serial over Bluetooth link (COM4)\n",
      "COM5\n",
      "USB Serial Port (COM5)\n"
     ]
    }
   ],
   "source": [
    "from serial.tools import list_ports\n",
    "port_data = list_ports.comports()\n",
    "for port, desc, hwid in sorted(port_data):\n",
    "        print(port)\n",
    "        print(desc)    "
   ]
  },
  {
   "cell_type": "markdown",
   "id": "c731ae51",
   "metadata": {},
   "source": [
    "**COM5 is the port to use**"
   ]
  },
  {
   "cell_type": "markdown",
   "id": "b60799d9",
   "metadata": {},
   "source": [
    "## Connecting with pyserial"
   ]
  },
  {
   "cell_type": "code",
   "execution_count": 42,
   "id": "3d50ab38",
   "metadata": {},
   "outputs": [
    {
     "data": {
      "text/plain": [
       "b'\\x01\\x03\\x0e\\t\\xf5\\x00\\x00\\x00\\x00\\x00\\x00\\x00\\x00\\x00\\x96\\x00\\x00J\\xc4'"
      ]
     },
     "execution_count": 42,
     "metadata": {},
     "output_type": "execute_result"
    }
   ],
   "source": [
    "import serial\n",
    "\n",
    "ser = serial.Serial(\n",
    "    port='COM5',\n",
    "    baudrate=9600,\n",
    "    parity=serial.PARITY_NONE,\n",
    "    stopbits=serial.STOPBITS_ONE,\n",
    "    bytesize=serial.EIGHTBITS,\n",
    "    timeout=2\n",
    ")\n",
    "\n",
    "# Construct the Modbus message to read a register\n",
    "address = 0x01\n",
    "function_code = 0x03\n",
    "register_address = 0x0000\n",
    "register_count = 0x0010\n",
    "message = bytearray([address, function_code, (register_address >> 8) & 0xFF, register_address & 0xFF, (register_count >> 8) & 0xFF, register_count & 0xFF])\n",
    "# From https://github.com/myinvent/ESP32-LoRa-RS485-Agriculture-Kit/blob/main/example_program/arduino/ESP32_LoRa_TH_EC_PH_NPK_Sensor/ESP32_LoRa_TH_EC_PH_NPK_Sensor.ino\n",
    "message = (0x01, 0x03, 0x00, 0x00, 0x00, 0x07, 0x04, 0x08)\n",
    "\n",
    "# Send the message to the device\n",
    "ser.write(message)\n",
    "\n",
    "# Read the response\n",
    "response = ser.readline()\n",
    "ser.close()\n",
    "response"
   ]
  },
  {
   "cell_type": "code",
   "execution_count": 21,
   "id": "5412bdcb",
   "metadata": {},
   "outputs": [],
   "source": [
    "?response.decode(encoding='utf-')"
   ]
  },
  {
   "cell_type": "code",
   "execution_count": 16,
   "id": "20c8bf6a",
   "metadata": {},
   "outputs": [
    {
     "data": {
      "text/plain": [
       "0"
      ]
     },
     "execution_count": 16,
     "metadata": {},
     "output_type": "execute_result"
    }
   ],
   "source": [
    "register_count >> 8"
   ]
  },
  {
   "cell_type": "code",
   "execution_count": 17,
   "id": "c0e2c057",
   "metadata": {},
   "outputs": [
    {
     "data": {
      "text/plain": [
       "16"
      ]
     },
     "execution_count": 17,
     "metadata": {},
     "output_type": "execute_result"
    }
   ],
   "source": [
    "register_count"
   ]
  },
  {
   "cell_type": "markdown",
   "id": "7892d139",
   "metadata": {},
   "source": [
    "### Decoding using chatGPT code"
   ]
  },
  {
   "cell_type": "code",
   "execution_count": 40,
   "id": "f85d2206",
   "metadata": {},
   "outputs": [
    {
     "data": {
      "text/plain": [
       "[]"
      ]
     },
     "execution_count": 40,
     "metadata": {},
     "output_type": "execute_result"
    }
   ],
   "source": [
    "# Extract the data from the response\n",
    "data = response[3:-2]\n",
    "\n",
    "# Convert the data to a list of integers\n",
    "values = [int.from_bytes(data[i:i+2], byteorder='big', signed=False) for i in range(0, len(data), 2)]\n",
    "\n",
    "# Convert the list of integers to a string\n",
    "string_data = ''.join([chr(val) for val in values])\n",
    "\n",
    "values"
   ]
  },
  {
   "cell_type": "code",
   "execution_count": 41,
   "id": "7504d397",
   "metadata": {},
   "outputs": [
    {
     "data": {
      "text/plain": [
       "''"
      ]
     },
     "execution_count": 41,
     "metadata": {},
     "output_type": "execute_result"
    }
   ],
   "source": [
    "string_data"
   ]
  },
  {
   "cell_type": "markdown",
   "id": "085828d6",
   "metadata": {},
   "source": [
    "### PySerial combine code\n",
    "https://files.seeedstudio.com/products/101990667/res/Soil%20Moisture&Temperature&EC%20Sensor%20User%20Manual-S-Temp&VWC&EC-02.pdf"
   ]
  },
  {
   "cell_type": "code",
   "execution_count": 56,
   "id": "4dbcc23d",
   "metadata": {},
   "outputs": [
    {
     "name": "stdout",
     "output_type": "stream",
     "text": [
      "Temp: 28.35, Water %: 8.29\n",
      "Elect Cond: 0, Salinity: 0, TDS: 0\n",
      "Soil type: 0\n"
     ]
    }
   ],
   "source": [
    "import serial\n",
    "\n",
    "ser = serial.Serial(\n",
    "    port='COM5',\n",
    "    baudrate=9600,\n",
    "    parity=serial.PARITY_NONE,\n",
    "    stopbits=serial.STOPBITS_ONE,\n",
    "    bytesize=serial.EIGHTBITS,\n",
    "    timeout=5\n",
    ")\n",
    "\n",
    "# Construct the Modbus message to read a register\n",
    "message = (0x01, 0x03, 0x00, 0x00, 0x00, 0x07, 0x04, 0x08)\n",
    "\n",
    "# Send the message to the device\n",
    "ser.write(message)\n",
    "\n",
    "# Read the response\n",
    "response = ser.readline()\n",
    "\n",
    "ser.close()\n",
    "\n",
    "# Extract the data from the response\n",
    "data = response[3:-2]\n",
    "\n",
    "# Convert the data to a list of integers\n",
    "values = [int.from_bytes(data[i:i+2], byteorder='big', signed=False) for i in range(0, len(data), 2)]\n",
    "\n",
    "# Extract values\n",
    "temp = values[0] # -4000 to 8000, where 1000 = 10C\n",
    "temp = temp/100 # Now in units of C\n",
    "\n",
    "water_content = values[1] # 0-10000 corresponds to 0-100%\n",
    "water_content = water_content/100 #Units of percent\n",
    "\n",
    "elec_conduct = values[2] # 0-20000 corresponds to 0-20000us/cm\n",
    "\n",
    "salinity = values[3] # 0-20000 corresponds to 0-20000mg/L\n",
    "\n",
    "tds = values[4] # 0-20000 corresponds to 0-20000mg/L\n",
    "\n",
    "epsilon = values[5] # 0-8200 corresponds to 0.00~82.00\n",
    "epsilon = epsilon/100\n",
    "\n",
    "soil_type = values[6] #0-3\n",
    "                    # 0: Mineral soil\n",
    "                    # 1: Sandy soil\n",
    "                    # 2: Clay\n",
    "                    # 3: Organic soil \n",
    "\n",
    "print(\"Temp: {}, Water %: {}\".format(temp, water_content))\n",
    "print(\"Elect Cond: {}, Salinity: {}, TDS: {}\".format(elec_conduct, salinity, tds))\n",
    "print(\"Soil type: {}\".format(soil_type))"
   ]
  },
  {
   "cell_type": "code",
   "execution_count": null,
   "id": "ba6cbdb1",
   "metadata": {},
   "outputs": [],
   "source": []
  },
  {
   "cell_type": "markdown",
   "id": "33e6257e",
   "metadata": {},
   "source": [
    "## PyModbus"
   ]
  },
  {
   "cell_type": "code",
   "execution_count": null,
   "id": "2af42796",
   "metadata": {},
   "outputs": [],
   "source": [
    "from pymodbus.client import ModbusSerialClient\n",
    "\n",
    "client = ModbusSerialClient(method='rtu', \n",
    "                            port='COM5', \n",
    "                            baudrate=9600, timeout=1)\n",
    "\n",
    "# Connect to the device\n",
    "client.connect()\n",
    "\n",
    "# Read a holding register\n",
    "address = 0x01\n",
    "register_address = 0x0000\n",
    "result = client.read_holding_registers(register_address, count=1, unit=address)\n",
    "\n",
    "if result.isError():\n",
    "    print(\"Error reading register\")\n",
    "else:\n",
    "    print(\"Value: \", result.registers[0])\n",
    "\n",
    "# Disconnect from the device\n",
    "client.close()\n"
   ]
  },
  {
   "cell_type": "code",
   "execution_count": null,
   "id": "fbe617ee",
   "metadata": {},
   "outputs": [],
   "source": []
  },
  {
   "cell_type": "code",
   "execution_count": null,
   "id": "46a69e2e",
   "metadata": {},
   "outputs": [],
   "source": []
  },
  {
   "cell_type": "code",
   "execution_count": null,
   "id": "9b5173bc",
   "metadata": {},
   "outputs": [],
   "source": []
  },
  {
   "cell_type": "code",
   "execution_count": null,
   "id": "721040ae",
   "metadata": {},
   "outputs": [],
   "source": []
  },
  {
   "cell_type": "code",
   "execution_count": null,
   "id": "b7a3360f",
   "metadata": {},
   "outputs": [],
   "source": []
  },
  {
   "cell_type": "code",
   "execution_count": null,
   "id": "0a97a764",
   "metadata": {},
   "outputs": [],
   "source": []
  },
  {
   "cell_type": "code",
   "execution_count": null,
   "id": "e1f429c6",
   "metadata": {},
   "outputs": [],
   "source": []
  },
  {
   "cell_type": "code",
   "execution_count": null,
   "id": "d52bcf36",
   "metadata": {},
   "outputs": [],
   "source": []
  },
  {
   "cell_type": "code",
   "execution_count": null,
   "id": "e678a59f",
   "metadata": {},
   "outputs": [],
   "source": []
  },
  {
   "cell_type": "code",
   "execution_count": null,
   "id": "d4e80d99",
   "metadata": {},
   "outputs": [],
   "source": []
  },
  {
   "cell_type": "markdown",
   "id": "ab74b76e",
   "metadata": {},
   "source": [
    "# Using chirp-modbus\n",
    "This is a different product but it may be similar, or the code can be reused"
   ]
  },
  {
   "cell_type": "code",
   "execution_count": 12,
   "id": "7753ba41",
   "metadata": {
    "collapsed": true
   },
   "outputs": [
    {
     "ename": "NoResponseError",
     "evalue": "No communication with the instrument (no answer)",
     "output_type": "error",
     "traceback": [
      "\u001b[1;31m---------------------------------------------------------------------------\u001b[0m",
      "\u001b[1;31mNoResponseError\u001b[0m                           Traceback (most recent call last)",
      "\u001b[1;32m<ipython-input-12-60cdc06e21eb>\u001b[0m in \u001b[0;36m<module>\u001b[1;34m\u001b[0m\n\u001b[0;32m      1\u001b[0m \u001b[1;32mimport\u001b[0m \u001b[0mchirp_modbus\u001b[0m\u001b[1;33m\u001b[0m\u001b[1;33m\u001b[0m\u001b[0m\n\u001b[0;32m      2\u001b[0m \u001b[0msensor\u001b[0m \u001b[1;33m=\u001b[0m \u001b[0mchirp_modbus\u001b[0m\u001b[1;33m.\u001b[0m\u001b[0mSoilMoistureSensor\u001b[0m\u001b[1;33m(\u001b[0m\u001b[0maddress\u001b[0m\u001b[1;33m=\u001b[0m\u001b[1;36m1\u001b[0m\u001b[1;33m,\u001b[0m \u001b[0mserialport\u001b[0m\u001b[1;33m=\u001b[0m\u001b[1;34m'COM5'\u001b[0m\u001b[1;33m)\u001b[0m\u001b[1;33m\u001b[0m\u001b[1;33m\u001b[0m\u001b[0m\n\u001b[1;32m----> 3\u001b[1;33m \u001b[0msensor\u001b[0m\u001b[1;33m.\u001b[0m\u001b[0mgetMoisture\u001b[0m\u001b[1;33m(\u001b[0m\u001b[1;33m)\u001b[0m\u001b[1;33m\u001b[0m\u001b[1;33m\u001b[0m\u001b[0m\n\u001b[0m",
      "\u001b[1;32mc:\\users\\jwilliams\\appdata\\local\\programs\\python\\python39\\lib\\site-packages\\chirp_modbus.py\u001b[0m in \u001b[0;36mgetMoisture\u001b[1;34m(self)\u001b[0m\n\u001b[0;32m     28\u001b[0m \u001b[1;33m\u001b[0m\u001b[0m\n\u001b[0;32m     29\u001b[0m         \u001b[1;32mdef\u001b[0m \u001b[0mgetMoisture\u001b[0m\u001b[1;33m(\u001b[0m\u001b[0mself\u001b[0m\u001b[1;33m)\u001b[0m\u001b[1;33m:\u001b[0m\u001b[1;33m\u001b[0m\u001b[1;33m\u001b[0m\u001b[0m\n\u001b[1;32m---> 30\u001b[1;33m                 \u001b[1;32mreturn\u001b[0m \u001b[0mself\u001b[0m\u001b[1;33m.\u001b[0m\u001b[0msensor\u001b[0m\u001b[1;33m.\u001b[0m\u001b[0mread_register\u001b[0m\u001b[1;33m(\u001b[0m\u001b[1;36m0\u001b[0m\u001b[1;33m,\u001b[0m \u001b[0mfunctioncode\u001b[0m\u001b[1;33m=\u001b[0m\u001b[1;36m4\u001b[0m\u001b[1;33m)\u001b[0m\u001b[1;33m\u001b[0m\u001b[1;33m\u001b[0m\u001b[0m\n\u001b[0m\u001b[0;32m     31\u001b[0m \u001b[1;33m\u001b[0m\u001b[0m\n\u001b[0;32m     32\u001b[0m         \u001b[1;32mdef\u001b[0m \u001b[0mgetTemperature\u001b[0m\u001b[1;33m(\u001b[0m\u001b[0mself\u001b[0m\u001b[1;33m)\u001b[0m\u001b[1;33m:\u001b[0m\u001b[1;33m\u001b[0m\u001b[1;33m\u001b[0m\u001b[0m\n",
      "\u001b[1;32mc:\\users\\jwilliams\\appdata\\local\\programs\\python\\python39\\lib\\site-packages\\minimalmodbus.py\u001b[0m in \u001b[0;36mread_register\u001b[1;34m(self, registeraddress, number_of_decimals, functioncode, signed)\u001b[0m\n\u001b[0;32m    478\u001b[0m         )\n\u001b[0;32m    479\u001b[0m         \u001b[0m_check_bool\u001b[0m\u001b[1;33m(\u001b[0m\u001b[0msigned\u001b[0m\u001b[1;33m,\u001b[0m \u001b[0mdescription\u001b[0m\u001b[1;33m=\u001b[0m\u001b[1;34m\"signed\"\u001b[0m\u001b[1;33m)\u001b[0m\u001b[1;33m\u001b[0m\u001b[1;33m\u001b[0m\u001b[0m\n\u001b[1;32m--> 480\u001b[1;33m         returnvalue = self._generic_command(\n\u001b[0m\u001b[0;32m    481\u001b[0m             \u001b[0mfunctioncode\u001b[0m\u001b[1;33m,\u001b[0m\u001b[1;33m\u001b[0m\u001b[1;33m\u001b[0m\u001b[0m\n\u001b[0;32m    482\u001b[0m             \u001b[0mregisteraddress\u001b[0m\u001b[1;33m,\u001b[0m\u001b[1;33m\u001b[0m\u001b[1;33m\u001b[0m\u001b[0m\n",
      "\u001b[1;32mc:\\users\\jwilliams\\appdata\\local\\programs\\python\\python39\\lib\\site-packages\\minimalmodbus.py\u001b[0m in \u001b[0;36m_generic_command\u001b[1;34m(self, functioncode, registeraddress, value, number_of_decimals, number_of_registers, number_of_bits, signed, byteorder, payloadformat)\u001b[0m\n\u001b[0;32m   1243\u001b[0m \u001b[1;33m\u001b[0m\u001b[0m\n\u001b[0;32m   1244\u001b[0m         \u001b[1;31m# Communicate with instrument\u001b[0m\u001b[1;33m\u001b[0m\u001b[1;33m\u001b[0m\u001b[1;33m\u001b[0m\u001b[0m\n\u001b[1;32m-> 1245\u001b[1;33m         \u001b[0mpayload_from_slave\u001b[0m \u001b[1;33m=\u001b[0m \u001b[0mself\u001b[0m\u001b[1;33m.\u001b[0m\u001b[0m_perform_command\u001b[0m\u001b[1;33m(\u001b[0m\u001b[0mfunctioncode\u001b[0m\u001b[1;33m,\u001b[0m \u001b[0mpayload_to_slave\u001b[0m\u001b[1;33m)\u001b[0m\u001b[1;33m\u001b[0m\u001b[1;33m\u001b[0m\u001b[0m\n\u001b[0m\u001b[0;32m   1246\u001b[0m \u001b[1;33m\u001b[0m\u001b[0m\n\u001b[0;32m   1247\u001b[0m         \u001b[1;31m# There is no response for broadcasts\u001b[0m\u001b[1;33m\u001b[0m\u001b[1;33m\u001b[0m\u001b[1;33m\u001b[0m\u001b[0m\n",
      "\u001b[1;32mc:\\users\\jwilliams\\appdata\\local\\programs\\python\\python39\\lib\\site-packages\\minimalmodbus.py\u001b[0m in \u001b[0;36m_perform_command\u001b[1;34m(self, functioncode, payload_to_slave)\u001b[0m\n\u001b[0;32m   1320\u001b[0m         \u001b[1;31m# Communicate\u001b[0m\u001b[1;33m\u001b[0m\u001b[1;33m\u001b[0m\u001b[1;33m\u001b[0m\u001b[0m\n\u001b[0;32m   1321\u001b[0m         \u001b[0mrequest_bytes\u001b[0m \u001b[1;33m=\u001b[0m \u001b[0mbytes\u001b[0m\u001b[1;33m(\u001b[0m\u001b[0mrequest\u001b[0m\u001b[1;33m,\u001b[0m \u001b[0mencoding\u001b[0m\u001b[1;33m=\u001b[0m\u001b[1;34m\"latin1\"\u001b[0m\u001b[1;33m)\u001b[0m\u001b[1;33m\u001b[0m\u001b[1;33m\u001b[0m\u001b[0m\n\u001b[1;32m-> 1322\u001b[1;33m         \u001b[0mresponse_bytes\u001b[0m \u001b[1;33m=\u001b[0m \u001b[0mself\u001b[0m\u001b[1;33m.\u001b[0m\u001b[0m_communicate\u001b[0m\u001b[1;33m(\u001b[0m\u001b[0mrequest_bytes\u001b[0m\u001b[1;33m,\u001b[0m \u001b[0mnumber_of_bytes_to_read\u001b[0m\u001b[1;33m)\u001b[0m\u001b[1;33m\u001b[0m\u001b[1;33m\u001b[0m\u001b[0m\n\u001b[0m\u001b[0;32m   1323\u001b[0m         \u001b[0mresponse\u001b[0m \u001b[1;33m=\u001b[0m \u001b[0mstr\u001b[0m\u001b[1;33m(\u001b[0m\u001b[0mresponse_bytes\u001b[0m\u001b[1;33m,\u001b[0m \u001b[0mencoding\u001b[0m\u001b[1;33m=\u001b[0m\u001b[1;34m\"latin1\"\u001b[0m\u001b[1;33m)\u001b[0m\u001b[1;33m\u001b[0m\u001b[1;33m\u001b[0m\u001b[0m\n\u001b[0;32m   1324\u001b[0m \u001b[1;33m\u001b[0m\u001b[0m\n",
      "\u001b[1;32mc:\\users\\jwilliams\\appdata\\local\\programs\\python\\python39\\lib\\site-packages\\minimalmodbus.py\u001b[0m in \u001b[0;36m_communicate\u001b[1;34m(self, request, number_of_bytes_to_read)\u001b[0m\n\u001b[0;32m   1488\u001b[0m \u001b[1;33m\u001b[0m\u001b[0m\n\u001b[0;32m   1489\u001b[0m         \u001b[1;32mif\u001b[0m \u001b[1;32mnot\u001b[0m \u001b[0manswer\u001b[0m \u001b[1;32mand\u001b[0m \u001b[0mnumber_of_bytes_to_read\u001b[0m \u001b[1;33m>\u001b[0m \u001b[1;36m0\u001b[0m\u001b[1;33m:\u001b[0m\u001b[1;33m\u001b[0m\u001b[1;33m\u001b[0m\u001b[0m\n\u001b[1;32m-> 1490\u001b[1;33m             \u001b[1;32mraise\u001b[0m \u001b[0mNoResponseError\u001b[0m\u001b[1;33m(\u001b[0m\u001b[1;34m\"No communication with the instrument (no answer)\"\u001b[0m\u001b[1;33m)\u001b[0m\u001b[1;33m\u001b[0m\u001b[1;33m\u001b[0m\u001b[0m\n\u001b[0m\u001b[0;32m   1491\u001b[0m \u001b[1;33m\u001b[0m\u001b[0m\n\u001b[0;32m   1492\u001b[0m         \u001b[1;32mif\u001b[0m \u001b[0mnumber_of_bytes_to_read\u001b[0m \u001b[1;33m==\u001b[0m \u001b[1;36m0\u001b[0m\u001b[1;33m:\u001b[0m\u001b[1;33m\u001b[0m\u001b[1;33m\u001b[0m\u001b[0m\n",
      "\u001b[1;31mNoResponseError\u001b[0m: No communication with the instrument (no answer)"
     ]
    }
   ],
   "source": [
    "import chirp_modbus\n",
    "sensor = chirp_modbus.SoilMoistureSensor(address=1, serialport='COM5')\n",
    "sensor.getMoisture()"
   ]
  },
  {
   "cell_type": "code",
   "execution_count": null,
   "id": "71157d5a",
   "metadata": {},
   "outputs": [],
   "source": []
  }
 ],
 "metadata": {
  "kernelspec": {
   "display_name": "Python 3",
   "language": "python",
   "name": "python3"
  },
  "language_info": {
   "codemirror_mode": {
    "name": "ipython",
    "version": 3
   },
   "file_extension": ".py",
   "mimetype": "text/x-python",
   "name": "python",
   "nbconvert_exporter": "python",
   "pygments_lexer": "ipython3",
   "version": "3.9.5"
  }
 },
 "nbformat": 4,
 "nbformat_minor": 5
}
